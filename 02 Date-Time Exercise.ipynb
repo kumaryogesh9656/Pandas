{
 "cells": [
  {
   "cell_type": "code",
   "execution_count": 1,
   "metadata": {},
   "outputs": [],
   "source": [
    "from datetime import date, timedelta, datetime as dt\n",
    "import pandas as pd"
   ]
  },
  {
   "cell_type": "markdown",
   "metadata": {},
   "source": [
    "**1. Write a Python script to display the:** <br/>\n",
    "- Current date and time <br/>\n",
    "- Current year <br/>\n",
    "- Month of year <br/>\n",
    "- Week number of the year <br/>\n",
    "- Weekday of the week <br/>\n",
    "- Day of year <br/>\n",
    "- Day of the month <br/>\n",
    "- Day of week"
   ]
  },
  {
   "cell_type": "code",
   "execution_count": 1,
   "metadata": {},
   "outputs": [
    {
     "name": "stdout",
     "output_type": "stream",
     "text": [
      "Current date and time   : 2022-04-05 19:26:06.369763\n",
      "Current year            : 2022\n",
      "Month of year           : April\n",
      "Week number of the year : 14\n",
      "Weekday of the week     : 2\n",
      "Day of year             : 95\n",
      "Day of the month        : 05\n",
      "Day of week             : Tuesday\n"
     ]
    }
   ],
   "source": [
    "print (f\"Current date and time   : {dt.today()}\")\n",
    "print (f\"Current year            : {dt.today().strftime('%Y')}\")\n",
    "print (f\"Month of year           : {dt.today().strftime('%B')}\")\n",
    "print (f\"Week number of the year : {dt.today().strftime('%U')}\")\n",
    "print (f\"Weekday of the week     : {dt.today().strftime('%w')}\")\n",
    "print (f\"Day of year             : {dt.today().strftime('%j')[1:]}\")\n",
    "print (f\"Day of the month        : {dt.today().strftime('%d')}\")\n",
    "print (f\"Day of week             : {dt.today().strftime('%A')}\")"
   ]
  },
  {
   "cell_type": "markdown",
   "metadata": {},
   "source": [
    "**2. Write a Python program to convert a string to datetime.** <br/>\n",
    "Sample String : Jan 1 2014 2:43PM \n",
    "\n",
    "Expected Output : 2014-07-01 14:43:00"
   ]
  },
  {
   "cell_type": "code",
   "execution_count": 2,
   "metadata": {},
   "outputs": [
    {
     "name": "stdout",
     "output_type": "stream",
     "text": [
      "2014-01-01 14:43:00\n"
     ]
    }
   ],
   "source": [
    "print (dt.strptime(\"Jan 1 2014 2:43PM\", \"%b %d %Y %I:%M%p\"))"
   ]
  },
  {
   "cell_type": "markdown",
   "metadata": {},
   "source": [
    "**3. Write a Python program to subtract five days from current date.** <br/>\n",
    "Current Date : 2015-06-22\n",
    "\n",
    "5 days before Current Date : 2015-06-17"
   ]
  },
  {
   "cell_type": "code",
   "execution_count": 3,
   "metadata": {},
   "outputs": [
    {
     "name": "stdout",
     "output_type": "stream",
     "text": [
      "Current Date : 2015-06-22\n",
      "\n",
      "5 days before Current Date : 2015-06-17\n"
     ]
    }
   ],
   "source": [
    "print (f\"Current Date : {date(2015, 6, 22)}\")\n",
    "\n",
    "print (f\"\\n5 days before Current Date : {date(2015, 6, 22) - timedelta(5)}\")"
   ]
  },
  {
   "cell_type": "markdown",
   "metadata": {},
   "source": [
    "**4. Write a Python program to convert unix timestamp string to readable date.** <br/>\n",
    "Sample Unix timestamp string : 1284105682\n",
    "    \n",
    "Expected Output : 2010-09-10 13:31:22"
   ]
  },
  {
   "cell_type": "code",
   "execution_count": 4,
   "metadata": {},
   "outputs": [
    {
     "name": "stdout",
     "output_type": "stream",
     "text": [
      "2010-09-10 13:31:22\n"
     ]
    }
   ],
   "source": [
    "print (dt.fromtimestamp(int(\"1284105682\")).strftime(\"%Y-%m-%d %H:%M:%S\"))"
   ]
  },
  {
   "cell_type": "markdown",
   "metadata": {},
   "source": [
    "**5. Convert the below Series to pandas datetime:** <br/>\n",
    "DoB = pd.Series([\"07Sep59\", \"01Jan55\", \"15Dec47\", \"11Jul42\"])\n",
    "\n",
    "Make sure that the year is 19XX not 20XX"
   ]
  },
  {
   "cell_type": "code",
   "execution_count": 5,
   "metadata": {},
   "outputs": [
    {
     "name": "stdout",
     "output_type": "stream",
     "text": [
      "0   1959-09-07\n",
      "1   1955-01-01\n",
      "2   1947-12-15\n",
      "3   1942-07-11\n",
      "dtype: datetime64[ns]\n"
     ]
    }
   ],
   "source": [
    "DoB = pd.Series([\"07Sep59\", \"01Jan55\", \"15Dec47\", \"11Jul42\"])\n",
    "date = DoB.apply(lambda x:dt.strptime(x, \"%d%b%y\"))\n",
    "\n",
    "print (date - pd.offsets.DateOffset(years = 100))"
   ]
  },
  {
   "cell_type": "markdown",
   "metadata": {},
   "source": [
    "**OR**"
   ]
  },
  {
   "cell_type": "code",
   "execution_count": 5,
   "metadata": {},
   "outputs": [
    {
     "name": "stdout",
     "output_type": "stream",
     "text": [
      "0   1959-09-07\n",
      "1   1955-01-01\n",
      "2   1947-12-15\n",
      "3   1942-07-11\n",
      "dtype: datetime64[ns]\n"
     ]
    }
   ],
   "source": [
    "DoB = pd.Series([\"07Sep59\", \"01Jan55\", \"15Dec47\", \"11Jul42\"])\n",
    "date = DoB.str[:-2] + \"19\" + DoB.str[-2:]\n",
    "\n",
    "print (pd.to_datetime(date, format = \"%d%b%Y\"))"
   ]
  },
  {
   "cell_type": "markdown",
   "metadata": {},
   "source": [
    "**6. Write a Python program to get days between two dates.**"
   ]
  },
  {
   "cell_type": "code",
   "execution_count": 6,
   "metadata": {},
   "outputs": [
    {
     "name": "stdout",
     "output_type": "stream",
     "text": [
      "5\n"
     ]
    }
   ],
   "source": [
    "print ((date(2022, 4, 5) - date(2022, 3, 31)).days)"
   ]
  },
  {
   "cell_type": "markdown",
   "metadata": {},
   "source": [
    "**7. Convert the below date to datetime and then change its display format using the .dt module.** <br/>\n",
    "Date = \"15Dec1989\"\n",
    "\n",
    "Result : \"Friday, 15 Dec 89\""
   ]
  },
  {
   "cell_type": "code",
   "execution_count": 7,
   "metadata": {},
   "outputs": [
    {
     "name": "stdout",
     "output_type": "stream",
     "text": [
      "Result : Friday, 15 Dec 89\n"
     ]
    }
   ],
   "source": [
    "print (f\"Result : {dt.strptime('15Dec1989', '%d%b%Y').strftime('%A, %d %b %y')}\")"
   ]
  }
 ],
 "metadata": {
  "kernelspec": {
   "display_name": "Python 3 (ipykernel)",
   "language": "python",
   "name": "python3"
  },
  "language_info": {
   "codemirror_mode": {
    "name": "ipython",
    "version": 3
   },
   "file_extension": ".py",
   "mimetype": "text/x-python",
   "name": "python",
   "nbconvert_exporter": "python",
   "pygments_lexer": "ipython3",
   "version": "3.9.7"
  }
 },
 "nbformat": 4,
 "nbformat_minor": 2
}
